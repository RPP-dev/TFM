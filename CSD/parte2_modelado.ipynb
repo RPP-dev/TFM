{
 "cells": [
  {
   "cell_type": "code",
   "execution_count": 1,
   "id": "1d625392-d488-44d8-a08e-364306733005",
   "metadata": {},
   "outputs": [],
   "source": [
    "# PARTE 2 - Modelado Predictivo\n",
    "\n",
    "# Importar librerías\n",
    "import pandas as pd\n",
    "from sklearn.model_selection import train_test_split\n",
    "from sklearn.preprocessing import LabelEncoder\n",
    "from sklearn.ensemble import RandomForestClassifier\n",
    "from sklearn.linear_model import LogisticRegression\n",
    "from sklearn.metrics import accuracy_score, f1_score, roc_auc_score, classification_report"
   ]
  },
  {
   "cell_type": "code",
   "execution_count": 2,
   "id": "91774144-8e0a-4316-ae7c-a06d759b199a",
   "metadata": {},
   "outputs": [],
   "source": [
    "# Cargar dataset\n",
    "df = pd.read_csv('dataset.csv')\n",
    "df.columns = df.columns.str.strip()"
   ]
  },
  {
   "cell_type": "code",
   "execution_count": 3,
   "id": "26941c85-5da0-4c38-9b3f-bf6dcdf9f363",
   "metadata": {},
   "outputs": [],
   "source": [
    "# Preprocesamiento\n",
    "le = LabelEncoder()\n",
    "df['Gender'] = le.fit_transform(df['Gender'])\n",
    "df['No-show'] = le.fit_transform(df['No-show'])"
   ]
  },
  {
   "cell_type": "code",
   "execution_count": 4,
   "id": "4998622a-9646-4989-b3c2-edddcf2e8cfd",
   "metadata": {},
   "outputs": [
    {
     "name": "stdout",
     "output_type": "stream",
     "text": [
      "['PatientId', 'AppointmentID', 'Gender', 'ScheduledDay', 'AppointmentDay', 'Age', 'Neighbourhood', 'Scholarship', 'Hipertension', 'Diabetes', 'Alcoholism', 'Handcap', 'SMS_received', 'No-show']\n"
     ]
    }
   ],
   "source": [
    "print(df.columns.tolist())"
   ]
  },
  {
   "cell_type": "code",
   "execution_count": 5,
   "id": "9dfbd302-829f-450b-b8aa-cdbfbc2b07d3",
   "metadata": {},
   "outputs": [],
   "source": [
    "# Seleccionar variables\n",
    "X = df[['Age', 'Gender', 'Scholarship', 'Hipertension', 'Diabetes', 'Alcoholism', 'Handcap', 'SMS_received']]\n",
    "y = df['No-show']\n",
    "\n",
    "\n",
    "# Separar entrenamiento/test\n",
    "X_train, X_test, y_train, y_test = train_test_split(X, y, test_size=0.2, random_state=42)"
   ]
  },
  {
   "cell_type": "code",
   "execution_count": 6,
   "id": "edd8ce62-3ff8-439c-8269-ee8460af8b92",
   "metadata": {},
   "outputs": [],
   "source": [
    "# Modelo 1 - Logistic Regression\n",
    "model_lr = LogisticRegression(max_iter=1000)\n",
    "model_lr.fit(X_train, y_train)\n",
    "y_pred_lr = model_lr.predict(X_test)\n",
    "\n",
    "# Modelo 2 - Random Forest\n",
    "model_rf = RandomForestClassifier()\n",
    "model_rf.fit(X_train, y_train)\n",
    "y_pred_rf = model_rf.predict(X_test)"
   ]
  },
  {
   "cell_type": "code",
   "execution_count": 7,
   "id": "734b94bb-4b42-4b29-b8e6-6ef1bd5f82db",
   "metadata": {},
   "outputs": [
    {
     "name": "stdout",
     "output_type": "stream",
     "text": [
      "Logistic Regression:\n",
      "Accuracy: 0.8013661449380258\n",
      "F1-Score: 0.0\n",
      "ROC AUC: 0.5\n",
      "\n",
      "Random Forest:\n",
      "Accuracy: 0.7976115081878223\n",
      "F1-Score: 0.0378494623655914\n",
      "ROC AUC: 0.5051940781804674\n"
     ]
    }
   ],
   "source": [
    "# Evaluación\n",
    "print(\"Logistic Regression:\")\n",
    "print(\"Accuracy:\", accuracy_score(y_test, y_pred_lr))\n",
    "print(\"F1-Score:\", f1_score(y_test, y_pred_lr))\n",
    "print(\"ROC AUC:\", roc_auc_score(y_test, y_pred_lr))\n",
    "\n",
    "print(\"\\nRandom Forest:\")\n",
    "print(\"Accuracy:\", accuracy_score(y_test, y_pred_rf))\n",
    "print(\"F1-Score:\", f1_score(y_test, y_pred_rf))\n",
    "print(\"ROC AUC:\", roc_auc_score(y_test, y_pred_rf))"
   ]
  },
  {
   "cell_type": "code",
   "execution_count": null,
   "id": "06b8ff41-1d23-4664-a233-10450f343f9c",
   "metadata": {},
   "outputs": [],
   "source": []
  }
 ],
 "metadata": {
  "kernelspec": {
   "display_name": "Python 3 (ipykernel)",
   "language": "python",
   "name": "python3"
  },
  "language_info": {
   "codemirror_mode": {
    "name": "ipython",
    "version": 3
   },
   "file_extension": ".py",
   "mimetype": "text/x-python",
   "name": "python",
   "nbconvert_exporter": "python",
   "pygments_lexer": "ipython3",
   "version": "3.10.16"
  }
 },
 "nbformat": 4,
 "nbformat_minor": 5
}
